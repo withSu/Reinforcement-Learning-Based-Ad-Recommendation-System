{
 "cells": [
  {
   "cell_type": "markdown",
   "metadata": {},
   "source": [
    "### 생성한 카테고리별 광고 선호도 상대값을 통해 랜덤 데이터 생성"
   ]
  },
  {
   "cell_type": "markdown",
   "metadata": {},
   "source": [
    "데이터 설계    \n",
    "**|성별|나이|시간대|계절|선호광고|**"
   ]
  },
  {
   "cell_type": "code",
   "execution_count": 1,
   "metadata": {},
   "outputs": [],
   "source": [
    "import numpy as np\n",
    "import pandas as pd"
   ]
  },
  {
   "cell_type": "code",
   "execution_count": 2,
   "metadata": {},
   "outputs": [],
   "source": [
    "ads = ['교양_오락_문화', '교육', '교통', '내구재', '외식', '의류']"
   ]
  },
  {
   "cell_type": "code",
   "execution_count": 3,
   "metadata": {},
   "outputs": [],
   "source": [
    "age_probs={\n",
    "    '20세미만':[0.155772,0.032579,0.173082,0.077582,0.427204,0.133781],\n",
    "    '20-30세':[0.080018,0.036579,0.176042,0.041381,0.452903,0.213077],\n",
    "    '31-40세':[0.449327,0.237728,0.055622,0.167459,0.071258,0.018606],\n",
    "    '41-50세':[0.150661,0.191682,0.183605,0.155049,0.157402,0.161601],\n",
    "    '51-60세':[0.154544,0.171543,0.194771,0.159827,0.157389,0.161926],\n",
    "    '61-70세':[0.15962,0.162691,0.196037,0.161504,0.158993,0.161155],\n",
    "    '70세이상':[0.158436,0.161268,0.193107,0.162166,0.160854,0.164169]\n",
    "}\n",
    "gender_probs={\n",
    "    '남성':[0.156679,0.172254,0.18816,0.159649,0.159979,0.163279],\n",
    "    '여성':[0.16134,0.167086,0.186584,0.159339,0.162761,0.16289]\n",
    "}\n",
    "season_probs={\n",
    "    '봄':[0.16846378,0.16210322,0.1917858,0.15665132,0.15889266,0.16210322],\n",
    "    '여름':[0.16590523,0.16387208,0.18999211,0.15815533,0.16037984,0.16169541],\n",
    "    '가을':[0.1678347,0.15979942,0.19151764,0.15871194,0.15883277,0.16330353],\n",
    "    '겨울':[0.17193664,0.1575752,0.19434172,0.1584073,0.15785256,0.15988659]\n",
    "}\n",
    "time_probs={\n",
    "    '06-09시':[0.19,0.05,0.24,0.09,0.29,0.14],\n",
    "    '09-11시':[0.19,0.05,0.24,0.09,0.29,0.14],\n",
    "    '11-15시':[0.29,0.05,0.09,0.14,0.24,0.19],\n",
    "    '15-19시':[0.14,0.29,0.05,0.09,0.24,0.19],\n",
    "    '19-21시':[0.24,0.19,0.05,0.09,0.29,0.14],\n",
    "    '21-06시':[0.24,0.05,0.19,0.09,0.29,0.14]\n",
    "}"
   ]
  },
  {
   "cell_type": "code",
   "execution_count": 4,
   "metadata": {},
   "outputs": [
    {
     "name": "stdout",
     "output_type": "stream",
     "text": [
      "['20세미만', '20-30세', '31-40세', '41-50세', '51-60세', '61-70세', '70세이상'] ['남성', '여성'] ['봄', '여름', '가을', '겨울'] ['06-09시', '09-11시', '11-15시', '15-19시', '19-21시', '21-06시']\n"
     ]
    }
   ],
   "source": [
    "# 샘플링 기준 인구 분포 설정 (없으면 uniform)\n",
    "age_groups = list(age_probs.keys())\n",
    "genders = list(gender_probs.keys())\n",
    "seasons = list(season_probs.keys())\n",
    "times = list(time_probs.keys())\n",
    "print(age_groups, genders, seasons, times)\n"
   ]
  },
  {
   "cell_type": "code",
   "execution_count": 55,
   "metadata": {},
   "outputs": [
    {
     "name": "stdout",
     "output_type": "stream",
     "text": [
      "      연령대  성별  출신     시간대      선호광고\n",
      "0  41-50세  여성   봄  06-09시        외식\n",
      "1   70세이상  여성  겨울  19-21시        교육\n",
      "2  31-40세  남성   봄  21-06시       내구재\n",
      "3   20세미만  여성  겨울  09-11시  교양_오락_문화\n",
      "4  41-50세  남성  겨울  11-15시  교양_오락_문화\n"
     ]
    }
   ],
   "source": [
    "# 2. 샘플 수 설정\n",
    "num_samples = 1000\n",
    "\n",
    "# 결과 저장 리스트\n",
    "data = []\n",
    "\n",
    "for _ in range(num_samples):\n",
    "    age = np.random.choice(age_groups)\n",
    "    gender = np.random.choice(genders)\n",
    "    season = np.random.choice(seasons)\n",
    "    time = np.random.choice(times)\n",
    "    \n",
    "    # 3. 선호 확률 가져오기\n",
    "    prob_age = np.array(age_probs[age])\n",
    "    prob_gender = np.array(gender_probs[gender])\n",
    "    prob_season = np.array(season_probs[season])\n",
    "    prob_time = np.array(time_probs[time])\n",
    "    \n",
    "    # 4. 평균 또는 가중평균으로 광고고 선호 확률 계산\n",
    "    final_probs = (prob_age + prob_gender + prob_season + prob_time) / 4\n",
    "    \n",
    "    # 5. 선호 광고 선택\n",
    "    ad = np.random.choice(ads, p=final_probs)\n",
    "    \n",
    "    # 저장\n",
    "    data.append({\n",
    "        '연령대': age,\n",
    "        '성별': gender,\n",
    "        '출신': season,\n",
    "        '시간대' : time,\n",
    "        '선호광고': ad\n",
    "    })\n",
    "\n",
    "# 6. DataFrame으로 변환\n",
    "df = pd.DataFrame(data)\n",
    "print(df.head())\n",
    "df.to_csv('../data/sample_data.csv', encoding='utf-8-sig')"
   ]
  }
 ],
 "metadata": {
  "kernelspec": {
   "display_name": "Advise-ML",
   "language": "python",
   "name": "python3"
  },
  "language_info": {
   "codemirror_mode": {
    "name": "ipython",
    "version": 3
   },
   "file_extension": ".py",
   "mimetype": "text/x-python",
   "name": "python",
   "nbconvert_exporter": "python",
   "pygments_lexer": "ipython3",
   "version": "3.10.16"
  }
 },
 "nbformat": 4,
 "nbformat_minor": 2
}
